{
  "nbformat": 4,
  "nbformat_minor": 0,
  "metadata": {
    "colab": {
      "provenance": [],
      "authorship_tag": "ABX9TyOzdfQmpYoyVvVd89dnMj4f",
      "include_colab_link": true
    },
    "kernelspec": {
      "name": "python3",
      "display_name": "Python 3"
    },
    "language_info": {
      "name": "python"
    }
  },
  "cells": [
    {
      "cell_type": "markdown",
      "metadata": {
        "id": "view-in-github",
        "colab_type": "text"
      },
      "source": [
        "<a href=\"https://colab.research.google.com/github/oMarquess/dummy/blob/master/Intro_to_Colab.ipynb\" target=\"_parent\"><img src=\"https://colab.research.google.com/assets/colab-badge.svg\" alt=\"Open In Colab\"/></a>"
      ]
    },
    {
      "cell_type": "markdown",
      "source": [
        "### Introduction"
      ],
      "metadata": {
        "id": "9mxkIb2fXfNp"
      }
    },
    {
      "cell_type": "code",
      "source": [],
      "metadata": {
        "id": "VD7OmhvRXh4a"
      },
      "execution_count": null,
      "outputs": []
    },
    {
      "cell_type": "markdown",
      "source": [
        "### Ingestion"
      ],
      "metadata": {
        "id": "g0zmzN3jXiPj"
      }
    },
    {
      "cell_type": "code",
      "source": [],
      "metadata": {
        "id": "ZrjgUCfSXx8N"
      },
      "execution_count": null,
      "outputs": []
    },
    {
      "cell_type": "markdown",
      "source": [
        "### EDA"
      ],
      "metadata": {
        "id": "Rpel0BUGXlV1"
      }
    },
    {
      "cell_type": "code",
      "source": [],
      "metadata": {
        "id": "QIxk9MpxXzQT"
      },
      "execution_count": null,
      "outputs": []
    },
    {
      "cell_type": "markdown",
      "source": [
        "### Modeling"
      ],
      "metadata": {
        "id": "RQdnXa-lXnqE"
      }
    },
    {
      "cell_type": "code",
      "source": [],
      "metadata": {
        "id": "lQhDcYZeXz3j"
      },
      "execution_count": null,
      "outputs": []
    },
    {
      "cell_type": "code",
      "source": [
        "from google.colab import drive\n",
        "drive.mount('/content/drive')"
      ],
      "metadata": {
        "id": "ZonNOZvxYQki"
      },
      "execution_count": null,
      "outputs": []
    },
    {
      "cell_type": "markdown",
      "source": [
        "### Deployment"
      ],
      "metadata": {
        "id": "RFUgBThpXrno"
      }
    },
    {
      "cell_type": "code",
      "source": [],
      "metadata": {
        "id": "0BhZ_f3SXu5T"
      },
      "execution_count": null,
      "outputs": []
    }
  ]
}